{
 "cells": [
  {
   "cell_type": "code",
   "execution_count": 1,
   "metadata": {
    "collapsed": true
   },
   "outputs": [],
   "source": [
    "import pandas as pd\n",
    "import matplotlib.pyplot as plt\n",
    "%matplotlib inline\n",
    "import os\n",
    "import MySQLdb\n",
    "import numpy as np"
   ]
  },
  {
   "cell_type": "code",
   "execution_count": 2,
   "metadata": {
    "collapsed": false
   },
   "outputs": [],
   "source": [
    "db = MySQLdb.connect(host=\"localhost\", user=\"root\", passwd=\"root\")\n",
    "cursor = db.cursor()"
   ]
  },
  {
   "cell_type": "code",
   "execution_count": 3,
   "metadata": {
    "collapsed": true
   },
   "outputs": [],
   "source": [
    "infile = \"../samples/macho/macho_vizier.tsv\"\n",
    "fdir = \"/Users/Nick/Documents/AGBstuff/new_work/samples/macho\""
   ]
  },
  {
   "cell_type": "code",
   "execution_count": 4,
   "metadata": {
    "collapsed": false
   },
   "outputs": [],
   "source": [
    "def read_vizier(fin):\n",
    "    f = open(fin).readlines()\n",
    "    keep_lines = [line for line in f if (line.startswith(\"#\") == False) & (line.startswith(\"\\n\") == False) ]\n",
    "    columns = keep_lines[0][:-1].split(\"|\")\n",
    "    data = {}\n",
    "    for ii in range(len(columns)):\n",
    "        data[columns[ii]] = []\n",
    "        \n",
    "    for ii in range(3, len(keep_lines)):\n",
    "        the_line = keep_lines[ii][:-1].split(\"|\")\n",
    "        for jj in range(len(columns)):\n",
    "            value = the_line[jj]\n",
    "            try:\n",
    "                value = float(value)\n",
    "                data[columns[jj]].append(value)\n",
    "            except ValueError:\n",
    "                value = value\n",
    "                data[columns[jj]].append(value)\n",
    "    \n",
    "    data = pd.DataFrame(data)\n",
    "    return data"
   ]
  },
  {
   "cell_type": "code",
   "execution_count": 5,
   "metadata": {
    "collapsed": false
   },
   "outputs": [],
   "source": [
    "def create_table():\n",
    "    sql = \"DROP TABLE agbtables.macho_raw;\"\n",
    "    cursor.execute(sql)\n",
    "    \n",
    "    sql = \"CREATE TABLE agbtables.macho_raw (macho_cnt INT NOT NULL AUTO_INCREMENT,\"\n",
    "    sql += \"field INT, tile INT, seq INT, ra DOUBLE, decl DOUBLE, glon DOUBLE, glat DOUBLE, per_r DOUBLE, per_b DOUBLE,\"\n",
    "    sql += \"vmag DOUBLE, rmag DOUBLE, r_amp DOUBLE, b_amp DOUBLE, br_amp DOUBLE,\"\n",
    "    sql += \"rsig DOUBLE, bsig DOUBLE, var_idx DOUBLE, star_class INT, n_obs INT,\"\n",
    "    sql += \"PRIMARY KEY (macho_cnt))\"\n",
    "    cursor.execute(sql)"
   ]
  },
  {
   "cell_type": "code",
   "execution_count": null,
   "metadata": {
    "collapsed": true
   },
   "outputs": [],
   "source": []
  },
  {
   "cell_type": "code",
   "execution_count": 6,
   "metadata": {
    "collapsed": false
   },
   "outputs": [],
   "source": [
    "def ingest(fname):\n",
    "    sql = \"LOAD DATA LOCAL INFILE '%s'\" % (fdir+\"/\"+fname)\n",
    "    sql += \" INTO TABLE agbtables.macho_raw FIELDS TERMINATED BY ',' (\"\n",
    "    sql += \"field, tile, seq, ra, decl, glat, glon, per_r, per_b,\"\n",
    "    sql += \"vmag, rmag, r_amp, b_amp, br_amp, rsig, bsig, var_idx, star_class, n_obs\"\n",
    "    sql += \");\"\n",
    "    \n",
    "    sql_file = open(fdir+\"/load_data.sql\", \"w\")\n",
    "    sql_file.write(sql)\n",
    "    sql_file.close()\n",
    "    os.system(\"mysql -u root --password=root < %s/load_data.sql\" % fdir)"
   ]
  },
  {
   "cell_type": "code",
   "execution_count": 7,
   "metadata": {
    "collapsed": false
   },
   "outputs": [],
   "source": [
    "output = read_vizier(infile)"
   ]
  },
  {
   "cell_type": "code",
   "execution_count": 8,
   "metadata": {
    "collapsed": false
   },
   "outputs": [],
   "source": [
    "output.to_csv(fdir+\"/macho_for_db.dat\", sep=\",\", columns=[\"Field\",\"Tile\",\"Seqn\",\"_RAJ2000\",\"_DEJ2000\",\"_Glat\",\"_Glon\",\"rPer\",\"bPer\",\"Vmag\",\"Rmag\",\"rAmp\",\"bAmp\",\"cAmp\",\"rsig\",\"bsig\",\"Var\",\"Class\",\"Points\"], header=False, index=False)"
   ]
  },
  {
   "cell_type": "code",
   "execution_count": 9,
   "metadata": {
    "collapsed": false,
    "scrolled": true
   },
   "outputs": [],
   "source": [
    "create_table()"
   ]
  },
  {
   "cell_type": "code",
   "execution_count": 10,
   "metadata": {
    "collapsed": false
   },
   "outputs": [],
   "source": [
    "ingest(\"macho_for_db.dat\")"
   ]
  },
  {
   "cell_type": "markdown",
   "metadata": {
    "collapsed": true
   },
   "source": [
    "### Create a coordinate list of OGLE sources"
   ]
  },
  {
   "cell_type": "code",
   "execution_count": 59,
   "metadata": {
    "collapsed": false
   },
   "outputs": [],
   "source": [
    "def ogle_coordlist(fname):\n",
    "    sql = \"SELECT ra, decl FROM agbtables.ogle3_agbs WHERE ra > 0\"\n",
    "    cursor.execute(sql)\n",
    "    output = cursor.fetchall()\n",
    "    \n",
    "    fmt = \"%f\\t%f\\n\"\n",
    "    fout = open(fdir+\"/\"+fname, \"w\")\n",
    "    for ii in range(len(output)):\n",
    "        fout.write(fmt % output[ii])\n",
    "        \n",
    "    fout.close()"
   ]
  },
  {
   "cell_type": "code",
   "execution_count": 172,
   "metadata": {
    "collapsed": false
   },
   "outputs": [],
   "source": [
    "def read_vizier_matched(fin):\n",
    "    f = open(fin).readlines()\n",
    "    keep_lines = [line for line in f if line.startswith(\"#\") == False]\n",
    "    columns = keep_lines[1][:-1].split(\"|\")\n",
    "    data = {}\n",
    "    data[\"ogleid\"] = []\n",
    "    for ii in range(len(columns)):\n",
    "        data[columns[ii]] = []\n",
    "    \n",
    "    for ii in range(4, len(keep_lines)):\n",
    "        data[\"ogleid\"].append(ii-3)\n",
    "        if keep_lines[ii].startswith(\"\\n\"):\n",
    "            for jj in range(len(columns)):\n",
    "                data[columns[jj]].append(\"\")\n",
    "        else:        \n",
    "            the_line = keep_lines[ii][:-1].split(\"|\")\n",
    "            for jj in range(len(columns)):\n",
    "                value = the_line[jj]\n",
    "                try:\n",
    "                    value = float(value)\n",
    "                    data[columns[jj]].append(value)\n",
    "                except ValueError:\n",
    "                    value = value\n",
    "                    data[columns[jj]].append(value)\n",
    "    \n",
    "    data = pd.DataFrame(data)\n",
    "    return data"
   ]
  },
  {
   "cell_type": "code",
   "execution_count": 60,
   "metadata": {
    "collapsed": false
   },
   "outputs": [],
   "source": [
    "ogle_coordlist(\"ogle_coordlist.dat\")"
   ]
  },
  {
   "cell_type": "code",
   "execution_count": 146,
   "metadata": {
    "collapsed": true
   },
   "outputs": [],
   "source": [
    "matchfile = fdir + \"/\" + \"ogle_macho_match2.tsv\""
   ]
  },
  {
   "cell_type": "code",
   "execution_count": 173,
   "metadata": {
    "collapsed": false
   },
   "outputs": [],
   "source": [
    "matched = read_vizier_matched(matchfile)"
   ]
  },
  {
   "cell_type": "code",
   "execution_count": null,
   "metadata": {
    "collapsed": false
   },
   "outputs": [],
   "source": []
  },
  {
   "cell_type": "code",
   "execution_count": 200,
   "metadata": {
    "collapsed": true
   },
   "outputs": [],
   "source": [
    "def create_match_table():\n",
    "    sql = \"DROP TABLE agbtables.macho_ogle_match;\"\n",
    "    cursor.execute(sql)\n",
    "    \n",
    "    sql = \"CREATE TABLE agbtables.macho_ogle_match (match_cnt INT NOT NULL AUTO_INCREMENT,\"\n",
    "    sql += \"field INT, tile INT, seq INT, ra DOUBLE, decl DOUBLE, glon DOUBLE, glat DOUBLE, per_r DOUBLE, per_b DOUBLE,\"\n",
    "    sql += \"vmag DOUBLE, rmag DOUBLE, r_amp DOUBLE, b_amp DOUBLE, br_amp DOUBLE,\"\n",
    "    sql += \"rsig DOUBLE, bsig DOUBLE, var_idx DOUBLE, star_class INT, n_obs INT, matchrad DOUBLE, ogleid INT,\"\n",
    "    sql += \"PRIMARY KEY (match_cnt))\"\n",
    "\n",
    "    cursor.execute(sql)"
   ]
  },
  {
   "cell_type": "code",
   "execution_count": 181,
   "metadata": {
    "collapsed": true
   },
   "outputs": [],
   "source": [
    "def ingest_match(fname):\n",
    "    sql = \"LOAD DATA LOCAL INFILE '%s'\" % (fdir+\"/\"+fname)\n",
    "    sql += \" INTO TABLE agbtables.macho_ogle_match FIELDS TERMINATED BY ',' (\"\n",
    "    sql += \"field, tile, seq, ra, decl, glat, glon, per_r, per_b,\"\n",
    "    sql += \"vmag, rmag, r_amp, b_amp, br_amp, rsig, bsig, var_idx, star_class, n_obs, matchrad, ogleid\"\n",
    "    sql += \");\"\n",
    "    \n",
    "    sql_file = open(fdir+\"/load_data.sql\", \"w\")\n",
    "    sql_file.write(sql)\n",
    "    sql_file.close()\n",
    "    os.system(\"mysql -u root --password=root < %s/load_data.sql\" % fdir)"
   ]
  },
  {
   "cell_type": "code",
   "execution_count": 182,
   "metadata": {
    "collapsed": true
   },
   "outputs": [],
   "source": [
    "matched.to_csv(fdir+\"/matched_for_db.dat\", sep=\",\", columns=[\"Field\",\"Tile\",\"Seqn\",\"_RAJ2000\",\"_DEJ2000\",\"_Glat\",\"_Glon\",\"rPer\",\"bPer\",\"Vmag\",\"Rmag\",\"rAmp\",\"bAmp\",\"cAmp\",\"rsig\",\"bsig\",\"Var\",\"Class\",\"Points\",\"_r\",\"ogleid\"], header=False, index=False)"
   ]
  },
  {
   "cell_type": "code",
   "execution_count": 199,
   "metadata": {
    "collapsed": false
   },
   "outputs": [],
   "source": [
    "create_match_table()\n",
    "ingest_match(\"matched_for_db.dat\")"
   ]
  },
  {
   "cell_type": "code",
   "execution_count": 202,
   "metadata": {
    "collapsed": true
   },
   "outputs": [],
   "source": [
    "def create_match_table_alldata():\n",
    "#     sql = \"DROP TABLE agbtables.macho_ogle_match_alldata;\"\n",
    "#     cursor.execute(sql)\n",
    "    \n",
    "    sql = \"CREATE TABLE agbtables.macho_ogle_match_alldata AS (SELECT \"\n",
    "    sql += \"m.field, m.tile, m.seq, m.ra, m.decl, m.glat, m.glon, m.per_r, m.per_b,\"\n",
    "    sql += \"m.vmag, m.rmag, m.r_amp, m.b_amp, m.br_amp, m.rsig, m.bsig, m.var_idx, m.star_class,\"\n",
    "    sql += \"m.n_obs, m.matchrad, o.p, o.I_mean, o.V_mean, o.I_amp, o.type, o.evol, o.spectr \"\n",
    "    sql += \"FROM ogle3_agbs AS o INNER JOIN macho_ogle_match AS m ON o.ogle3cnt = m.ogleid \"\n",
    "    sql += \"WHERE m.n_obs != 0\"\n",
    "    sql += \")\"\n",
    "\n",
    "    print sql \n",
    "    cursor.execute(sql)"
   ]
  },
  {
   "cell_type": "code",
   "execution_count": 203,
   "metadata": {
    "collapsed": false
   },
   "outputs": [
    {
     "name": "stdout",
     "output_type": "stream",
     "text": [
      "CREATE TABLE agbtables.macho_ogle_match_alldata AS (SELECT m.field, m.tile, m.seq, m.ra, m.decl, m.glat, m.glon, m.per_r, m.per_b,m.vmag, m.rmag, m.r_amp, m.b_amp, m.br_amp, m.rsig, m.bsig, m.var_idx, m.star_class,m.n_obs, m.matchrad, o.p, o.I_mean, o.V_mean, o.I_amp, o.type, o.evol, o.spectr FROM ogle3_agbs AS o INNER JOIN macho_ogle_match AS m ON o.ogle3cnt = m.ogleid WHERE m.n_obs != 0)\n"
     ]
    },
    {
     "ename": "OperationalError",
     "evalue": "(1046, 'No database selected')",
     "output_type": "error",
     "traceback": [
      "\u001b[0;31m---------------------------------------------------------------------------\u001b[0m",
      "\u001b[0;31mOperationalError\u001b[0m                          Traceback (most recent call last)",
      "\u001b[0;32m<ipython-input-203-ebd755d1ed34>\u001b[0m in \u001b[0;36m<module>\u001b[0;34m()\u001b[0m\n\u001b[0;32m----> 1\u001b[0;31m \u001b[0mcreate_match_table_alldata\u001b[0m\u001b[0;34m(\u001b[0m\u001b[0;34m)\u001b[0m\u001b[0;34m\u001b[0m\u001b[0m\n\u001b[0m",
      "\u001b[0;32m<ipython-input-202-9f65ff933c38>\u001b[0m in \u001b[0;36mcreate_match_table_alldata\u001b[0;34m()\u001b[0m\n\u001b[1;32m     12\u001b[0m \u001b[0;34m\u001b[0m\u001b[0m\n\u001b[1;32m     13\u001b[0m     \u001b[0;32mprint\u001b[0m \u001b[0msql\u001b[0m\u001b[0;34m\u001b[0m\u001b[0m\n\u001b[0;32m---> 14\u001b[0;31m     \u001b[0mcursor\u001b[0m\u001b[0;34m.\u001b[0m\u001b[0mexecute\u001b[0m\u001b[0;34m(\u001b[0m\u001b[0msql\u001b[0m\u001b[0;34m)\u001b[0m\u001b[0;34m\u001b[0m\u001b[0m\n\u001b[0m",
      "\u001b[0;32m/Users/Nick/anaconda/lib/python2.7/site-packages/MySQLdb/cursors.pyc\u001b[0m in \u001b[0;36mexecute\u001b[0;34m(self, query, args)\u001b[0m\n\u001b[1;32m    203\u001b[0m             \u001b[0;32mdel\u001b[0m \u001b[0mtb\u001b[0m\u001b[0;34m\u001b[0m\u001b[0m\n\u001b[1;32m    204\u001b[0m             \u001b[0mself\u001b[0m\u001b[0;34m.\u001b[0m\u001b[0mmessages\u001b[0m\u001b[0;34m.\u001b[0m\u001b[0mappend\u001b[0m\u001b[0;34m(\u001b[0m\u001b[0;34m(\u001b[0m\u001b[0mexc\u001b[0m\u001b[0;34m,\u001b[0m \u001b[0mvalue\u001b[0m\u001b[0;34m)\u001b[0m\u001b[0;34m)\u001b[0m\u001b[0;34m\u001b[0m\u001b[0m\n\u001b[0;32m--> 205\u001b[0;31m             \u001b[0mself\u001b[0m\u001b[0;34m.\u001b[0m\u001b[0merrorhandler\u001b[0m\u001b[0;34m(\u001b[0m\u001b[0mself\u001b[0m\u001b[0;34m,\u001b[0m \u001b[0mexc\u001b[0m\u001b[0;34m,\u001b[0m \u001b[0mvalue\u001b[0m\u001b[0;34m)\u001b[0m\u001b[0;34m\u001b[0m\u001b[0m\n\u001b[0m\u001b[1;32m    206\u001b[0m         \u001b[0mself\u001b[0m\u001b[0;34m.\u001b[0m\u001b[0m_executed\u001b[0m \u001b[0;34m=\u001b[0m \u001b[0mquery\u001b[0m\u001b[0;34m\u001b[0m\u001b[0m\n\u001b[1;32m    207\u001b[0m         \u001b[0;32mif\u001b[0m \u001b[0;32mnot\u001b[0m \u001b[0mself\u001b[0m\u001b[0;34m.\u001b[0m\u001b[0m_defer_warnings\u001b[0m\u001b[0;34m:\u001b[0m \u001b[0mself\u001b[0m\u001b[0;34m.\u001b[0m\u001b[0m_warning_check\u001b[0m\u001b[0;34m(\u001b[0m\u001b[0;34m)\u001b[0m\u001b[0;34m\u001b[0m\u001b[0m\n",
      "\u001b[0;32m/Users/Nick/anaconda/lib/python2.7/site-packages/MySQLdb/connections.pyc\u001b[0m in \u001b[0;36mdefaulterrorhandler\u001b[0;34m(***failed resolving arguments***)\u001b[0m\n\u001b[1;32m     34\u001b[0m     \u001b[0;32mdel\u001b[0m \u001b[0mcursor\u001b[0m\u001b[0;34m\u001b[0m\u001b[0m\n\u001b[1;32m     35\u001b[0m     \u001b[0;32mdel\u001b[0m \u001b[0mconnection\u001b[0m\u001b[0;34m\u001b[0m\u001b[0m\n\u001b[0;32m---> 36\u001b[0;31m     \u001b[0;32mraise\u001b[0m \u001b[0merrorclass\u001b[0m\u001b[0;34m,\u001b[0m \u001b[0merrorvalue\u001b[0m\u001b[0;34m\u001b[0m\u001b[0m\n\u001b[0m\u001b[1;32m     37\u001b[0m \u001b[0;34m\u001b[0m\u001b[0m\n\u001b[1;32m     38\u001b[0m \u001b[0mre_numeric_part\u001b[0m \u001b[0;34m=\u001b[0m \u001b[0mre\u001b[0m\u001b[0;34m.\u001b[0m\u001b[0mcompile\u001b[0m\u001b[0;34m(\u001b[0m\u001b[0;34mr\"^(\\d+)\"\u001b[0m\u001b[0;34m)\u001b[0m\u001b[0;34m\u001b[0m\u001b[0m\n",
      "\u001b[0;31mOperationalError\u001b[0m: (1046, 'No database selected')"
     ]
    }
   ],
   "source": [
    "create_match_table_alldata()"
   ]
  },
  {
   "cell_type": "code",
   "execution_count": null,
   "metadata": {
    "collapsed": true
   },
   "outputs": [],
   "source": []
  }
 ],
 "metadata": {
  "kernelspec": {
   "display_name": "Python 2",
   "language": "python",
   "name": "python2"
  },
  "language_info": {
   "codemirror_mode": {
    "name": "ipython",
    "version": 2
   },
   "file_extension": ".py",
   "mimetype": "text/x-python",
   "name": "python",
   "nbconvert_exporter": "python",
   "pygments_lexer": "ipython2",
   "version": "2.7.9"
  }
 },
 "nbformat": 4,
 "nbformat_minor": 0
}
