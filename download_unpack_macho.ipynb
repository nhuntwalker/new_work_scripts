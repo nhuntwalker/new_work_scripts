{
 "cells": [
  {
   "cell_type": "code",
   "execution_count": 29,
   "metadata": {
    "collapsed": false
   },
   "outputs": [],
   "source": [
    "import urllib2\n",
    "import MySQLdb\n",
    "import os"
   ]
  },
  {
   "cell_type": "code",
   "execution_count": 30,
   "metadata": {
    "collapsed": false
   },
   "outputs": [],
   "source": [
    "db = MySQLdb.connect(user=\"root\", host=\"localhost\", passwd=\"root\")\n",
    "cursor = db.cursor()"
   ]
  },
  {
   "cell_type": "code",
   "execution_count": 31,
   "metadata": {
    "collapsed": true
   },
   "outputs": [],
   "source": [
    "base_url = \"http://macho.nci.org.au/macho_photometry/\"\n",
    "fdir = \"/Users/Nick/Documents/AGBstuff/new_work/samples/macho/\""
   ]
  },
  {
   "cell_type": "markdown",
   "metadata": {},
   "source": [
    "### Functions"
   ]
  },
  {
   "cell_type": "code",
   "execution_count": 32,
   "metadata": {
    "collapsed": true
   },
   "outputs": [],
   "source": [
    "def download_save(url, outfile):\n",
    "    outfile = fdir+outfile\n",
    "    infile = urllib2.urlopen(url)\n",
    "    fout = open(outfile, \"wb\")\n",
    "    fout.write(infile.read())\n",
    "    fout.close()"
   ]
  },
  {
   "cell_type": "code",
   "execution_count": 33,
   "metadata": {
    "collapsed": false
   },
   "outputs": [],
   "source": [
    "def unpack(fname):\n",
    "    gzip = fdir+fname+\".gz\"\n",
    "    os.system(\"gunzip %s\" % gzip)"
   ]
  },
  {
   "cell_type": "code",
   "execution_count": 48,
   "metadata": {
    "collapsed": true
   },
   "outputs": [],
   "source": [
    "def create_macho_raw():\n",
    "    sql = \"DROP TABLE agbtables.macho_raw;\"\n",
    "    cursor.execute(sql)\n",
    "    \n",
    "    sql = \"CREATE TABLE agbtables.macho_raw (\"\n",
    "    sql += \"macho_cnt BIGINT(8) UNSIGNED AUTO_INCREMENT PRIMARY KEY,\"\n",
    "    sql += \"field_id INT, tile_id INT, star_sequence_id INT,\"\n",
    "    sql += \"obs_date DOUBLE, obs_id INT, side_of_pier VARCHAR(3),\"\n",
    "    sql += \"exp_time INT, airmass DOUBLE, rmag DOUBLE, rerr DOUBLE,\"\n",
    "    sql += \"bmag DOUBLE, berr DOUBLE\"\n",
    "    sql += \");\"\n",
    "    cursor.execute(sql)"
   ]
  },
  {
   "cell_type": "code",
   "execution_count": 49,
   "metadata": {
    "collapsed": true
   },
   "outputs": [],
   "source": [
    "def ingest(fname):\n",
    "    sql = \"LOAD DATA LOCAL INFILE '%s'\" % (fdir+fname)\n",
    "    sql += \" INTO TABLE agbtables.macho_raw FIELDS TERMINATED BY ';' (\"\n",
    "    sql += \"@dummy, field_id, tile_id, star_sequence_id, obs_date, obs_id,\"\n",
    "    sql += \"side_of_pier, exp_time, airmass, rmag, rerr,\"\n",
    "    sql += \"@dummy,@dummy,@dummy,@dummy,@dummy,@dummy,@dummy,@dummy,@dummy,@dummy,@dummy,@dummy,@dummy,\"\n",
    "    sql += \"bmag, berr);\"\n",
    "    \n",
    "    sql_file = open(fdir+\"load_data.sql\", \"w\")\n",
    "    sql_file.write(sql)\n",
    "    sql_file.close()\n",
    "    os.system(\"mysql -u root --password=root < %sload_data.sql\" % fdir)"
   ]
  },
  {
   "cell_type": "code",
   "execution_count": null,
   "metadata": {
    "collapsed": true
   },
   "outputs": [],
   "source": []
  },
  {
   "cell_type": "markdown",
   "metadata": {},
   "source": [
    "### Execution"
   ]
  },
  {
   "cell_type": "code",
   "execution_count": 36,
   "metadata": {
    "collapsed": true
   },
   "outputs": [],
   "source": [
    "download_save(base_url+\"F_1/F_1.3319.gz\", \"F_1.3319.gz\")"
   ]
  },
  {
   "cell_type": "code",
   "execution_count": 50,
   "metadata": {
    "collapsed": false
   },
   "outputs": [],
   "source": [
    "create_macho_raw()"
   ]
  },
  {
   "cell_type": "code",
   "execution_count": 40,
   "metadata": {
    "collapsed": true
   },
   "outputs": [],
   "source": [
    "unpack(\"F_1.3319\")"
   ]
  },
  {
   "cell_type": "code",
   "execution_count": 45,
   "metadata": {
    "collapsed": false
   },
   "outputs": [],
   "source": [
    "ingest(\"F_1.3319\")"
   ]
  },
  {
   "cell_type": "code",
   "execution_count": null,
   "metadata": {
    "collapsed": true
   },
   "outputs": [],
   "source": []
  }
 ],
 "metadata": {
  "kernelspec": {
   "display_name": "Python 2",
   "language": "python",
   "name": "python2"
  },
  "language_info": {
   "codemirror_mode": {
    "name": "ipython",
    "version": 2
   },
   "file_extension": ".py",
   "mimetype": "text/x-python",
   "name": "python",
   "nbconvert_exporter": "python",
   "pygments_lexer": "ipython2",
   "version": "2.7.9"
  }
 },
 "nbformat": 4,
 "nbformat_minor": 0
}
