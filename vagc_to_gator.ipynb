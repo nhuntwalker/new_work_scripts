{
 "cells": [
  {
   "cell_type": "markdown",
   "metadata": {},
   "source": [
    "For taking VAGC outputs from MySQL and converting for GATOR"
   ]
  },
  {
   "cell_type": "code",
   "execution_count": 1,
   "metadata": {
    "collapsed": false
   },
   "outputs": [],
   "source": [
    "import pandas as pd\n",
    "import os\n",
    "import numpy as np\n",
    "import matplotlib.pyplot as plt\n",
    "%matplotlib inline"
   ]
  },
  {
   "cell_type": "code",
   "execution_count": 2,
   "metadata": {
    "collapsed": false
   },
   "outputs": [],
   "source": [
    "infile1 = \"../contaminants/vagc_idpos.dat\""
   ]
  },
  {
   "cell_type": "code",
   "execution_count": 62,
   "metadata": {
    "collapsed": false
   },
   "outputs": [],
   "source": [
    "vagc = pd.read_csv(infile1, sep=\"\\t\")\n",
    "blanks = [\" \" for ii in range(len(vagc))]\n",
    "vagc.insert(0,\"blanks\",blanks)"
   ]
  },
  {
   "cell_type": "code",
   "execution_count": 94,
   "metadata": {
    "collapsed": false
   },
   "outputs": [],
   "source": [
    "def output_for_gator(df, fname):\n",
    "    nlines = len(df)\n",
    "    perfile = 200000\n",
    "    nfiles = nlines/perfile + 1\n",
    "\n",
    "    ra = df[\"ra\"]\n",
    "    dec = df[\"decl\"]\n",
    "    theid = df[\"vagcid\"]\n",
    "    \n",
    "    for ii in range(nfiles):\n",
    "        fout = open(fname % (ii+1), \"w\")\n",
    "        fmt = \"  %.6f   %.6f      %i\\n\"\n",
    "        \n",
    "        fout.write(\"|     ra    |    dec      |     id    |\\n\")\n",
    "        fout.write(\"|   double  |   double    |    int    |\\n\")\n",
    "        \n",
    "        if (ii+1)*perfile < nlines:\n",
    "            for ii in range(ii*perfile, (ii+1)*perfile):\n",
    "                fout.write(fmt % (ra[ii],dec[ii], ii))\n",
    "                \n",
    "        else:\n",
    "            for ii in range(ii*perfile, nlines):\n",
    "                fout.write(fmt % (ra[ii],dec[ii], ii))\n",
    "\n",
    "        fout.close()"
   ]
  },
  {
   "cell_type": "code",
   "execution_count": 95,
   "metadata": {
    "collapsed": false
   },
   "outputs": [],
   "source": [
    "# vagc.to_csv(\"../contaminants/vagc_for_gator.dat\",\"\\t\", float_format = \"%.6f\", header=False, index=False)\n",
    "output_for_gator(vagc, \"../contaminants/vagc_for_gator%i.dat\")"
   ]
  },
  {
   "cell_type": "code",
   "execution_count": 68,
   "metadata": {
    "collapsed": false
   },
   "outputs": [],
   "source": [
    "fout = open(\"../contaminants/gator_head.dat\", \"w\")\n",
    "fout.write(\"|id            |ra         |dec             |\\n\")\n",
    "fout.write(\"|int           |double     |double          |\\n\")\n",
    "fout.close()"
   ]
  },
  {
   "cell_type": "code",
   "execution_count": 61,
   "metadata": {
    "collapsed": false
   },
   "outputs": [
    {
     "data": {
      "text/plain": [
       "vagcid           1\n",
       "ra         358.678\n",
       "decl      0.014338\n",
       "blank             \n",
       "Name: 0, dtype: object"
      ]
     },
     "execution_count": 61,
     "metadata": {},
     "output_type": "execute_result"
    }
   ],
   "source": [
    "vagc.ix[0]"
   ]
  },
  {
   "cell_type": "code",
   "execution_count": null,
   "metadata": {
    "collapsed": true
   },
   "outputs": [],
   "source": []
  }
 ],
 "metadata": {
  "kernelspec": {
   "display_name": "Python 2",
   "language": "python",
   "name": "python2"
  },
  "language_info": {
   "codemirror_mode": {
    "name": "ipython",
    "version": 2
   },
   "file_extension": ".py",
   "mimetype": "text/x-python",
   "name": "python",
   "nbconvert_exporter": "python",
   "pygments_lexer": "ipython2",
   "version": "2.7.9"
  }
 },
 "nbformat": 4,
 "nbformat_minor": 0
}
