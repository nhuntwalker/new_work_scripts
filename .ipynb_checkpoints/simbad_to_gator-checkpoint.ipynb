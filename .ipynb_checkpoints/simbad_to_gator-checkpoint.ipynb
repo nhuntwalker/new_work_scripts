{
 "metadata": {
  "name": "",
  "signature": "sha256:947d6f557fc34749c215f856e698a68726559dffe373ff5bc101eb373af2043a"
 },
 "nbformat": 3,
 "nbformat_minor": 0,
 "worksheets": [
  {
   "cells": [
    {
     "cell_type": "markdown",
     "metadata": {},
     "source": [
      "For taking SIMBAD outputs and converting them to ingestible by MySQL and then by GATOR"
     ]
    },
    {
     "cell_type": "code",
     "collapsed": false,
     "input": [
      "import pandas as pd\n",
      "import os\n",
      "import numpy as np\n",
      "import matplotlib.pyplot as plt\n",
      "%matplotlib inline"
     ],
     "language": "python",
     "metadata": {},
     "outputs": [],
     "prompt_number": 55
    },
    {
     "cell_type": "code",
     "collapsed": false,
     "input": [
      "# infile1 = \"../contaminants/planetary_nebulae_simbad.tsv\"\n",
      "infile2 = \"../contaminants/yso1_simbad.tsv\"\n",
      "infile3 = \"../contaminants/yso2_simbad.tsv\"\n"
     ],
     "language": "python",
     "metadata": {},
     "outputs": [],
     "prompt_number": 355
    },
    {
     "cell_type": "code",
     "collapsed": false,
     "input": [
      "def read_simbad(infile):\n",
      "    data = open(infile).readlines()[9:-2]\n",
      "    idnum = []\n",
      "    name = []\n",
      "    ra = []\n",
      "    dec = []\n",
      "    \n",
      "    for ii in range(len(data)):        \n",
      "        line = data[ii].split(\"\\t\")\n",
      "        \n",
      "        if line[3].startswith(\"No Coord.\") != True:\n",
      "            idnum.append(line[0])\n",
      "            name.append(line[1])\n",
      "            ra.append(line[3].split()[0])\n",
      "            dec.append(line[3].split()[1])\n",
      "\n",
      "    idnum = np.array(idnum, dtype=\"int\")\n",
      "    ra = np.array(ra, dtype=\"float\")\n",
      "    dec = np.array(dec, dtype=\"float\")\n",
      "    name = np.array(name, dtype=\"S20\")\n",
      "    \n",
      "    return idnum, name, ra, dec"
     ],
     "language": "python",
     "metadata": {},
     "outputs": [],
     "prompt_number": 358
    },
    {
     "cell_type": "code",
     "collapsed": false,
     "input": [
      "# def output_for_gator(idnum, ra, dec, name, fname):\n",
      "#     head1 = \"|id     |ra       |dec        |name                    |\\n\"\n",
      "#     head2 = \"|int    |double   |double     |char                    |\\n\"\n",
      "    \n",
      "#     fmt = \" %s\\t %.5f  %.5f\\t%s\\n\"\n",
      "    \n",
      "#     fout = open(fname, 'w')\n",
      "#     fout.write(head1)\n",
      "#     fout.write(head2)\n",
      "#     for ii in range(len(idnum)):\n",
      "#          fout.write(fmt % (idnum[ii], ra[ii], dec[ii], name[ii]))\n",
      "    \n",
      "#     fout.close()\n",
      "    \n",
      "def output_for_gator(idnum, ra, dec, name, fname):\n",
      "\n",
      "    head1 = \"|id   |ra                   |dec                      |name                                       |\\n\"\n",
      "    head2 = \"|int  |double               |double                   |char                                       |\\n\"\n",
      "        \n",
      "#     print head1\n",
      "#     print head2\n",
      "\n",
      "#     print fmt % (idnum[ii], ra[ii], dec[ii], name[ii])\n",
      "\n",
      "    fout = open(fname, 'w')\n",
      "    fout.write(head1)\n",
      "    fout.write(head2)\n",
      "    \n",
      "    for ii in range(len(idnum)):\n",
      "#     for ii in range(200):\n",
      "        #start building the line\n",
      "        fmt1 = \" %i\"\n",
      "        nspaces1 = \" \"*(len(str(max(idnum))) - len(str(idnum[ii])) + 2)\n",
      "        fmt2 = \"%.6f\"\n",
      "        nspaces2 = \" \"*(len(str(max(ra))) - len(str(ra[ii])) + 20)\n",
      "        fmt3 = \"%.6f\"\n",
      "        nspaces3 = \" \"*(len(str(max(dec))) - len(str(dec[ii])) + 20)\n",
      "        fmt4 = \" %s\\n\"\n",
      "        fmt = fmt1+nspaces1+fmt2+nspaces2+fmt3+nspaces3+fmt4\n",
      "\n",
      "        fout.write(fmt % (idnum[ii], ra[ii], dec[ii], name[ii]))\n",
      "    \n",
      "    fout.close()\n",
      "    "
     ],
     "language": "python",
     "metadata": {},
     "outputs": [],
     "prompt_number": 353
    },
    {
     "cell_type": "code",
     "collapsed": false,
     "input": [
      "# idnum, name, ra, dec = read_simbad(infile1)\n",
      "idnum1, name1, ra1, dec1 = read_simbad(infile2)\n",
      "idnum2, name2, ra2, dec2 = read_simbad(infile3)\n",
      "\n",
      "idnum = np.concatenate((idnum1, idnum2))\n",
      "name = np.concatenate((name1, name2))\n",
      "ra = np.concatenate((ra1, ra2))\n",
      "dec = np.concatenate((dec1, dec2))\n"
     ],
     "language": "python",
     "metadata": {},
     "outputs": [],
     "prompt_number": 360
    },
    {
     "cell_type": "code",
     "collapsed": false,
     "input": [
      "# output_for_gator(idnum, ra, dec, name, \"../contaminants/pne_for_gator.dat\")\n",
      "output_for_gator(idnum, ra, dec, name, \"../contaminants/yso_for_gator.dat\")"
     ],
     "language": "python",
     "metadata": {},
     "outputs": [],
     "prompt_number": 361
    },
    {
     "cell_type": "code",
     "collapsed": false,
     "input": [],
     "language": "python",
     "metadata": {},
     "outputs": [],
     "prompt_number": 361
    },
    {
     "cell_type": "code",
     "collapsed": false,
     "input": [],
     "language": "python",
     "metadata": {},
     "outputs": [],
     "prompt_number": 361
    },
    {
     "cell_type": "code",
     "collapsed": false,
     "input": [],
     "language": "python",
     "metadata": {},
     "outputs": []
    }
   ],
   "metadata": {}
  }
 ]
}