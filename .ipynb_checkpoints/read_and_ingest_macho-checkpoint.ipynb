{
 "cells": [
  {
   "cell_type": "code",
   "execution_count": 1,
   "metadata": {
    "collapsed": true
   },
   "outputs": [],
   "source": [
    "import pandas as pd\n",
    "import matplotlib.pyplot as plt\n",
    "%matplotlib inline\n",
    "import os\n",
    "import MySQLdb\n",
    "import numpy as np"
   ]
  },
  {
   "cell_type": "code",
   "execution_count": 2,
   "metadata": {
    "collapsed": false
   },
   "outputs": [],
   "source": [
    "db = MySQLdb.connect(host=\"localhost\", user=\"root\", passwd=\"root\")\n",
    "cursor = db.cursor()"
   ]
  },
  {
   "cell_type": "code",
   "execution_count": 3,
   "metadata": {
    "collapsed": true
   },
   "outputs": [],
   "source": [
    "infile = \"../samples/macho/macho_vizier.tsv\"\n",
    "fdir = \"/Users/Nick/Documents/AGBstuff/new_work/samples/macho\""
   ]
  },
  {
   "cell_type": "code",
   "execution_count": 4,
   "metadata": {
    "collapsed": false
   },
   "outputs": [],
   "source": [
    "def read_vizier(fin):\n",
    "    f = open(fin).readlines()\n",
    "    keep_lines = [line for line in f if (line.startswith(\"#\") == False) & (line.startswith(\"\\n\") == False) ]\n",
    "    columns = keep_lines[0][:-1].split(\"|\")\n",
    "    data = {}\n",
    "    for ii in range(len(columns)):\n",
    "        data[columns[ii]] = []\n",
    "        \n",
    "    for ii in range(3, len(keep_lines)):\n",
    "        the_line = keep_lines[ii][:-1].split(\"|\")\n",
    "        for jj in range(len(columns)):\n",
    "            value = the_line[jj]\n",
    "            try:\n",
    "                value = float(value)\n",
    "                data[columns[jj]].append(value)\n",
    "            except ValueError:\n",
    "                value = value\n",
    "                data[columns[jj]].append(value)\n",
    "    \n",
    "    data = pd.DataFrame(data)\n",
    "    return data"
   ]
  },
  {
   "cell_type": "code",
   "execution_count": 5,
   "metadata": {
    "collapsed": false
   },
   "outputs": [],
   "source": [
    "def create_table():\n",
    "    sql = \"DROP TABLE agbtables.macho_raw;\"\n",
    "    cursor.execute(sql)\n",
    "    \n",
    "    sql = \"CREATE TABLE agbtables.macho_raw (macho_cnt INT NOT NULL AUTO_INCREMENT,\"\n",
    "    sql += \"field INT, tile INT, seq INT, ra DOUBLE, decl DOUBLE, glon DOUBLE, glat DOUBLE, per_r DOUBLE, per_b DOUBLE,\"\n",
    "    sql += \"vmag DOUBLE, rmag DOUBLE, r_amp DOUBLE, b_amp DOUBLE, br_amp DOUBLE,\"\n",
    "    sql += \"rsig DOUBLE, bsig DOUBLE, var_idx DOUBLE, star_class INT, n_obs INT,\"\n",
    "    sql += \"PRIMARY KEY (macho_cnt))\"\n",
    "    cursor.execute(sql)"
   ]
  },
  {
   "cell_type": "code",
   "execution_count": null,
   "metadata": {
    "collapsed": true
   },
   "outputs": [],
   "source": []
  },
  {
   "cell_type": "code",
   "execution_count": 6,
   "metadata": {
    "collapsed": false
   },
   "outputs": [],
   "source": [
    "def ingest(fname):\n",
    "    sql = \"LOAD DATA LOCAL INFILE '%s'\" % (fdir+\"/\"+fname)\n",
    "    sql += \" INTO TABLE agbtables.macho_raw FIELDS TERMINATED BY ',' (\"\n",
    "    sql += \"field, tile, seq, ra, decl, glat, glon, per_r, per_b,\"\n",
    "    sql += \"vmag, rmag, r_amp, b_amp, br_amp, rsig, bsig, var_idx, star_class, n_obs\"\n",
    "    sql += \");\"\n",
    "    \n",
    "    sql_file = open(fdir+\"/load_data.sql\", \"w\")\n",
    "    sql_file.write(sql)\n",
    "    sql_file.close()\n",
    "    os.system(\"mysql -u root --password=root < %s/load_data.sql\" % fdir)"
   ]
  },
  {
   "cell_type": "code",
   "execution_count": 7,
   "metadata": {
    "collapsed": false
   },
   "outputs": [],
   "source": [
    "output = read_vizier(infile)"
   ]
  },
  {
   "cell_type": "code",
   "execution_count": 8,
   "metadata": {
    "collapsed": false
   },
   "outputs": [],
   "source": [
    "output.to_csv(fdir+\"/macho_for_db.dat\", sep=\",\", columns=[\"Field\",\"Tile\",\"Seqn\",\"_RAJ2000\",\"_DEJ2000\",\"_Glat\",\"_Glon\",\"rPer\",\"bPer\",\"Vmag\",\"Rmag\",\"rAmp\",\"bAmp\",\"cAmp\",\"rsig\",\"bsig\",\"Var\",\"Class\",\"Points\"], header=False, index=False)"
   ]
  },
  {
   "cell_type": "code",
   "execution_count": 9,
   "metadata": {
    "collapsed": false,
    "scrolled": true
   },
   "outputs": [],
   "source": [
    "create_table()"
   ]
  },
  {
   "cell_type": "code",
   "execution_count": 10,
   "metadata": {
    "collapsed": false
   },
   "outputs": [],
   "source": [
    "ingest(\"macho_for_db.dat\")"
   ]
  },
  {
   "cell_type": "markdown",
   "metadata": {
    "collapsed": true
   },
   "source": [
    "### Create a coordinate list of OGLE sources"
   ]
  },
  {
   "cell_type": "code",
   "execution_count": 59,
   "metadata": {
    "collapsed": false
   },
   "outputs": [],
   "source": [
    "def ogle_coordlist(fname):\n",
    "    sql = \"SELECT ra, decl FROM agbtables.ogle3_agbs WHERE ra > 0\"\n",
    "    cursor.execute(sql)\n",
    "    output = cursor.fetchall()\n",
    "    \n",
    "    fmt = \"%f\\t%f\\n\"\n",
    "    fout = open(fdir+\"/\"+fname, \"w\")\n",
    "    for ii in range(len(output)):\n",
    "        fout.write(fmt % output[ii])\n",
    "        \n",
    "    fout.close()"
   ]
  },
  {
   "cell_type": "code",
   "execution_count": null,
   "metadata": {
    "collapsed": true
   },
   "outputs": [],
   "source": [
    "def read_vizier_matched(fin):\n",
    "    f = open(fin).readlines()\n",
    "    keep_lines = [line for line in f if line.startswith(\"#\") == False)]\n",
    "    columns = keep_lines[0][:-1].split(\"|\")\n",
    "    data = {}\n",
    "    for ii in range(len(columns)):\n",
    "        data[columns[ii]] = []\n",
    "        \n",
    "    for ii in range(3, len(keep_lines)):\n",
    "        the_line = keep_lines[ii][:-1].split(\"|\")\n",
    "        for jj in range(len(columns)):\n",
    "            value = the_line[jj]\n",
    "            try:\n",
    "                value = float(value)\n",
    "                data[columns[jj]].append(value)\n",
    "            except ValueError:\n",
    "                value = value\n",
    "                data[columns[jj]].append(value)\n",
    "    \n",
    "    data = pd.DataFrame(data)\n",
    "    return data"
   ]
  },
  {
   "cell_type": "code",
   "execution_count": 60,
   "metadata": {
    "collapsed": false
   },
   "outputs": [],
   "source": [
    "ogle_coordlist(\"ogle_coordlist.dat\")"
   ]
  },
  {
   "cell_type": "code",
   "execution_count": 61,
   "metadata": {
    "collapsed": true
   },
   "outputs": [],
   "source": [
    "matchfile = fdir + \"/\" + \"ogle_macho_match2.tsv\""
   ]
  },
  {
   "cell_type": "code",
   "execution_count": 62,
   "metadata": {
    "collapsed": false
   },
   "outputs": [],
   "source": [
    "matched = read_vizier(matchfile)"
   ]
  },
  {
   "cell_type": "code",
   "execution_count": 63,
   "metadata": {
    "collapsed": false
   },
   "outputs": [
    {
     "data": {
      "text/plain": [
       "2487"
      ]
     },
     "execution_count": 63,
     "metadata": {},
     "output_type": "execute_result"
    }
   ],
   "source": [
    "len(matched)"
   ]
  },
  {
   "cell_type": "code",
   "execution_count": 64,
   "metadata": {
    "collapsed": false
   },
   "outputs": [
    {
     "data": {
      "text/plain": [
       "Index([u'Class', u'Data', u'Field', u'LC', u'Points', u'Rmag', u'Seqn', u'Tile', u'Var', u'Vmag', u'_1', u'_DEJ2000', u'_Glat', u'_Glon', u'_RAJ2000', u'_r', u'bAmp', u'bPer', u'bPoints', u'bSupRSA', u'bchi2', u'bsig', u'cAmp', u'cPoints', u'rAmp', u'rPer', u'rPoints', u'rSupRSA', u'rchi2', u'rsig'], dtype='object')"
      ]
     },
     "execution_count": 64,
     "metadata": {},
     "output_type": "execute_result"
    }
   ],
   "source": [
    "matched.columns"
   ]
  },
  {
   "cell_type": "code",
   "execution_count": 124,
   "metadata": {
    "collapsed": true
   },
   "outputs": [],
   "source": [
    "def create_match_table():\n",
    "#     sql = \"DROP TABLE agbtables.macho_ogle_match;\"\n",
    "#     cursor.execute(sql)\n",
    "    \n",
    "    sql = \"CREATE TABLE agbtables.macho_ogle_match (match_cnt INT NOT NULL AUTO_INCREMENT,\"\n",
    "    sql += \"field INT, tile INT, seq INT, ra DOUBLE, decl DOUBLE, glon DOUBLE, glat DOUBLE, per_r DOUBLE, per_b DOUBLE,\"\n",
    "    sql += \"vmag DOUBLE, rmag DOUBLE, r_amp DOUBLE, b_amp DOUBLE, br_amp DOUBLE,\"\n",
    "    sql += \"rsig DOUBLE, bsig DOUBLE, var_idx DOUBLE, star_class INT, n_obs INT, matchrad DOUBLE, oglera DOUBLE, ogledec DOUBLE,\"\n",
    "    sql += \"PRIMARY KEY (match_cnt))\"\n",
    "\n",
    "    cursor.execute(sql)"
   ]
  },
  {
   "cell_type": "code",
   "execution_count": 118,
   "metadata": {
    "collapsed": true
   },
   "outputs": [],
   "source": [
    "def ingest_match(fname):\n",
    "    sql = \"LOAD DATA LOCAL INFILE '%s'\" % (fdir+\"/\"+fname)\n",
    "    sql += \" INTO TABLE agbtables.macho_ogle_match FIELDS TERMINATED BY ',' (\"\n",
    "    sql += \"field, tile, seq, ra, decl, glat, glon, per_r, per_b,\"\n",
    "    sql += \"vmag, rmag, r_amp, b_amp, br_amp, rsig, bsig, var_idx, star_class, n_obs, matchrad, oglera, ogledec\"\n",
    "    sql += \");\"\n",
    "    \n",
    "    sql_file = open(fdir+\"/load_data.sql\", \"w\")\n",
    "    sql_file.write(sql)\n",
    "    sql_file.close()\n",
    "    os.system(\"mysql -u root --password=root < %s/load_data.sql\" % fdir)"
   ]
  },
  {
   "cell_type": "code",
   "execution_count": 119,
   "metadata": {
    "collapsed": false
   },
   "outputs": [],
   "source": [
    "oglera = []\n",
    "ogledec = []"
   ]
  },
  {
   "cell_type": "code",
   "execution_count": 120,
   "metadata": {
    "collapsed": false
   },
   "outputs": [],
   "source": [
    "for ii in range(len(matched)):\n",
    "    pos = matched[\"_1\"].ix[ii].split()\n",
    "    oglera.append(pos[0])\n",
    "    ogledec.append(pos[1])"
   ]
  },
  {
   "cell_type": "code",
   "execution_count": 121,
   "metadata": {
    "collapsed": true
   },
   "outputs": [],
   "source": [
    "matched[\"ogle_ra\"] = oglera\n",
    "matched[\"ogle_dec\"] = ogledec"
   ]
  },
  {
   "cell_type": "code",
   "execution_count": 122,
   "metadata": {
    "collapsed": true
   },
   "outputs": [],
   "source": [
    "matched.to_csv(fdir+\"/matched_for_db.dat\", sep=\",\", columns=[\"Field\",\"Tile\",\"Seqn\",\"_RAJ2000\",\"_DEJ2000\",\"_Glat\",\"_Glon\",\"rPer\",\"bPer\",\"Vmag\",\"Rmag\",\"rAmp\",\"bAmp\",\"cAmp\",\"rsig\",\"bsig\",\"Var\",\"Class\",\"Points\",\"_r\",\"ogle_ra\",\"ogle_dec\"], header=False, index=False)"
   ]
  },
  {
   "cell_type": "code",
   "execution_count": 125,
   "metadata": {
    "collapsed": false
   },
   "outputs": [],
   "source": [
    "create_match_table()\n",
    "ingest_match(\"matched_for_db.dat\")"
   ]
  },
  {
   "cell_type": "code",
   "execution_count": null,
   "metadata": {
    "collapsed": true
   },
   "outputs": [],
   "source": [
    "def create_match_table_alldata():\n",
    "#     sql = \"DROP TABLE agbtables.macho_ogle_match;\"\n",
    "#     cursor.execute(sql)\n",
    "    \n",
    "    sql = \"CREATE TABLE agbtables.macho_ogle_match_alldata AS (SELECT * \"\n",
    "    sql += \"FROM ogle3_agbs AS o INNER JOIN macho_ogle_match AS m \"\n",
    "    sql += \"WHERE m.oglera = o.ra AND m.ogledec = o.decl\"\n",
    "    sql += \")\"\n",
    "    sql += \"PRIMARY KEY (match_cnt))\"\n",
    "\n",
    "    cursor.execute(sql)"
   ]
  }
 ],
 "metadata": {
  "kernelspec": {
   "display_name": "Python 2",
   "language": "python",
   "name": "python2"
  },
  "language_info": {
   "codemirror_mode": {
    "name": "ipython",
    "version": 2
   },
   "file_extension": ".py",
   "mimetype": "text/x-python",
   "name": "python",
   "nbconvert_exporter": "python",
   "pygments_lexer": "ipython2",
   "version": "2.7.9"
  }
 },
 "nbformat": 4,
 "nbformat_minor": 0
}
