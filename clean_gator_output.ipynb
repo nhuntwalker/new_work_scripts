{
 "metadata": {
  "name": "",
  "signature": "sha256:8dfd6610ca7f9e820d4e35ab9bbdd8b1e6d40ba07751c695d52edbaf407ba903"
 },
 "nbformat": 3,
 "nbformat_minor": 0,
 "worksheets": [
  {
   "cells": [
    {
     "cell_type": "markdown",
     "metadata": {},
     "source": [
      "Author: Nicholas Hunt-Walker<br>\n",
      "Created: Feb 22, 2015"
     ]
    },
    {
     "cell_type": "code",
     "collapsed": false,
     "input": [
      "import numpy as np\n",
      "import os\n",
      "import pandas as pd\n",
      "import matplotlib.pyplot as plt\n",
      "%matplotlib inline"
     ],
     "language": "python",
     "metadata": {},
     "outputs": [],
     "prompt_number": 1
    },
    {
     "cell_type": "code",
     "collapsed": false,
     "input": [
      "pne_file = \"../contaminants/gator_output_pne.tbl\"\n",
      "yso_file = \"../contaminants/gator_output_yso.tbl\""
     ],
     "language": "python",
     "metadata": {},
     "outputs": [],
     "prompt_number": 2
    },
    {
     "cell_type": "code",
     "collapsed": false,
     "input": [
      "def parse_and_output(infile, outfile):\n",
      "    alldata = [] ## This is going to be the variable holding all the data after initial cutting\n",
      "\n",
      "    prelimra = []\n",
      "    prelimdec = []\n",
      "\n",
      "    readin = open(infile,'r').readlines()\n",
      "    nlines = len(readin) # number of lines in the read file\n",
      "    ndata = eval(readin[3].split()[-1]) # number of lines of actual data\n",
      "    skiplines = nlines-ndata # number of lines to skip for the header\n",
      "\n",
      "    # fmt = 'S20,float,float,float,float,float,float,float,float,float,float,float,float,float,float,float,float,int,int,int,int,S4,int,int,float,float,float,float,float,float'\n",
      "    fmt = \"int,float,float,int,float,float,S30,S20\"\n",
      "    fmt += \",float,float,float,float,float,float,float\"\n",
      "    fmt += \",float,float,float,float,float,float,float,float,float,float,float,float\"\n",
      "    fmt += \",float,float,float,float,S5,int\"\n",
      "    fmt += \",float,float,float,float,float,float,float,float\"\n",
      "\n",
      "    data = readin[24:]\n",
      "\n",
      "    columns = readin[20].split('|')\n",
      "    colnames = []\n",
      "\n",
      "    data_dict = {}\n",
      "\n",
      "    for ii in range(1,len(columns)-1):\n",
      "        the_name = columns[ii].strip()\n",
      "        colnames.append(the_name)\n",
      "        data_dict[the_name] = []\n",
      "\n",
      "    for ii in range(len(data)):\n",
      "        line = data[ii].split()\n",
      "        for jj in range(len(colnames)):\n",
      "            data_dict[colnames[jj]].append(line[jj])\n",
      "\n",
      "    df = pd.DataFrame(data_dict)\n",
      "    \n",
      "    df.w1mpro[df.w1mpro == \"null\"] = -9999\n",
      "    df.w2mpro[df.w2mpro == \"null\"] = -9999\n",
      "    df.w3mpro[df.w3mpro == \"null\"] = -9999\n",
      "    df.w4mpro[df.w4mpro == \"null\"] = -9999\n",
      "    df.j_m_2mass[df.j_m_2mass == \"null\"] = -9999\n",
      "    df.h_m_2mass[df.h_m_2mass == \"null\"] = -9999\n",
      "    df.k_m_2mass[df.k_m_2mass == \"null\"] = -9999\n",
      "    \n",
      "    \n",
      "    df.to_csv(outfile, sep=\"\\t\", index=False)\n",
      "    \n",
      "    return df"
     ],
     "language": "python",
     "metadata": {},
     "outputs": [],
     "prompt_number": 5
    },
    {
     "cell_type": "code",
     "collapsed": false,
     "input": [
      "pne_df = parse_and_output(pne_file, \"../contaminants/pne_allwise_allmags.dat\")\n",
      "yso_df = parse_and_output(yso_file, \"../contaminants/yso_allwise_allmags.dat\")"
     ],
     "language": "python",
     "metadata": {},
     "outputs": [],
     "prompt_number": 6
    },
    {
     "cell_type": "code",
     "collapsed": false,
     "input": [
      "pne_df.columns"
     ],
     "language": "python",
     "metadata": {},
     "outputs": [
      {
       "metadata": {},
       "output_type": "pyout",
       "prompt_number": 5,
       "text": [
        "Index([u'cc_flags', u'cntr_01', u'dec', u'dec_01', u'designation', u'dist_x', u'ext_flg', u'glat', u'glon', u'h_m_2mass', u'h_msig_2mass', u'id_01', u'j_m_2mass', u'j_msig_2mass', u'k_m_2mass', u'k_msig_2mass', u'n_2mass', u'name_01', u'pang_x', u'pmdec', u'pmra', u'r_2mass', u'ra', u'ra_01', u'sigdec', u'sigpmdec', u'sigpmra', u'sigra', u'sigradec', u'w1mpro', u'w1sigmpro', u'w1snr', u'w2mpro', u'w2sigmpro', u'w2snr', u'w3mpro', u'w3sigmpro', u'w3snr', u'w4mpro', u'w4sigmpro', u'w4snr'], dtype=object)"
       ]
      }
     ],
     "prompt_number": 5
    },
    {
     "cell_type": "code",
     "collapsed": false,
     "input": [],
     "language": "python",
     "metadata": {},
     "outputs": []
    }
   ],
   "metadata": {}
  }
 ]
}