{
 "cells": [
  {
   "cell_type": "markdown",
   "metadata": {},
   "source": [
    "Author: Nicholas Hunt-Walker<br>\n",
    "Created: Feb 22, 2015"
   ]
  },
  {
   "cell_type": "code",
   "execution_count": 7,
   "metadata": {
    "collapsed": false
   },
   "outputs": [],
   "source": [
    "import numpy as np\n",
    "import os\n",
    "import pandas as pd\n",
    "import matplotlib.pyplot as plt\n",
    "%matplotlib inline"
   ]
  },
  {
   "cell_type": "code",
   "execution_count": 8,
   "metadata": {
    "collapsed": false
   },
   "outputs": [],
   "source": [
    "# pne_file = \"../contaminants/gator_output_pne.tbl\"\n",
    "# yso_file = \"../contaminants/gator_output_yso.tbl\"\n",
    "# vagc_files = [f for f in os.listdir(\"../gator_ins_outs/\") if f.startswith(\"Ipac\")]\n",
    "rgb_file = \"../contaminants/ogle_rgbs_from_gator.tbl\""
   ]
  },
  {
   "cell_type": "code",
   "execution_count": 14,
   "metadata": {
    "collapsed": false
   },
   "outputs": [],
   "source": [
    "def parse_and_output(infile, outfile):\n",
    "    alldata = [] ## This is going to be the variable holding all the data after initial cutting\n",
    "\n",
    "    prelimra = []\n",
    "    prelimdec = []\n",
    "\n",
    "    readin = open(infile,'r').readlines()\n",
    "    nlines = len(readin) # number of lines in the read file\n",
    "    ndata = eval(readin[2].split()[-1]) # number of lines of actual data\n",
    "    skiplines = nlines-ndata # number of lines to skip for the header\n",
    "\n",
    "    # fmt = 'S20,float,float,float,float,float,float,float,float,float,float,float,float,float,float,float,float,int,int,int,int,S4,int,int,float,float,float,float,float,float'\n",
    "    fmt = \"int,float,float,int,float,float,S30,S20\"\n",
    "    fmt += \",float,float,float,float,float,float,float\"\n",
    "    fmt += \",float,float,float,float,float,float,float,float,float,float,float,float\"\n",
    "    fmt += \",float,float,float,float,S5,int\"\n",
    "    fmt += \",float,float,float,float,float,float,float,float\"\n",
    "\n",
    "    data = readin[24:]\n",
    "\n",
    "    columns = readin[20].split('|')\n",
    "    colnames = []\n",
    "\n",
    "    data_dict = {}\n",
    "\n",
    "    for ii in range(1,len(columns)-1):\n",
    "        the_name = columns[ii].strip()\n",
    "        colnames.append(the_name)\n",
    "        data_dict[the_name] = []\n",
    "\n",
    "    for ii in range(len(data)):\n",
    "        line = data[ii].split()\n",
    "        for jj in range(len(colnames)):\n",
    "            data_dict[colnames[jj]].append(line[jj])\n",
    "\n",
    "    df = pd.DataFrame(data_dict)\n",
    "    \n",
    "    df.w1mpro[df.w1mpro == \"null\"] = -9999\n",
    "    df.w2mpro[df.w2mpro == \"null\"] = -9999\n",
    "    df.w3mpro[df.w3mpro == \"null\"] = -9999\n",
    "    df.w4mpro[df.w4mpro == \"null\"] = -9999\n",
    "    df.j_m_2mass[df.j_m_2mass == \"null\"] = -9999\n",
    "    df.h_m_2mass[df.h_m_2mass == \"null\"] = -9999\n",
    "    df.k_m_2mass[df.k_m_2mass == \"null\"] = -9999\n",
    "    \n",
    "    \n",
    "#     df.to_csv(outfile, sep=\"\\t\", index=False)\n",
    "    df.to_csv(outfile, sep=\",\", index=False)\n",
    "    \n",
    "    return df"
   ]
  },
  {
   "cell_type": "code",
   "execution_count": 10,
   "metadata": {
    "collapsed": false
   },
   "outputs": [],
   "source": [
    "# pne_df = parse_and_output(pne_file, \"../contaminants/pne_allwise_allmags.dat\")\n",
    "# yso_df = parse_and_output(yso_file, \"../contaminants/yso_allwise_allmags.dat\")"
   ]
  },
  {
   "cell_type": "code",
   "execution_count": 11,
   "metadata": {
    "collapsed": false
   },
   "outputs": [],
   "source": [
    "# for ii in range(len(vagc_files)):\n",
    "#     vagc = parse_and_output(\"../gator_ins_outs/\"+vagc_files[ii], \"../gator_ins_outs/vagc_gator_out%i.csv\" % (ii+1))"
   ]
  },
  {
   "cell_type": "code",
   "execution_count": 12,
   "metadata": {
    "collapsed": false
   },
   "outputs": [],
   "source": [
    "# vagc = parse_and_output(\"../gator_ins_outs/\"+vagc_files[0], \"../contaminants/vagc_gator_out.dat\")"
   ]
  },
  {
   "cell_type": "code",
   "execution_count": 15,
   "metadata": {
    "collapsed": false
   },
   "outputs": [],
   "source": [
    "rgbs_df = parse_and_output(rgb_file, \"../contaminants/lmcrgbs_allwise_allmags.dat\")"
   ]
  },
  {
   "cell_type": "code",
   "execution_count": null,
   "metadata": {
    "collapsed": false
   },
   "outputs": [],
   "source": []
  },
  {
   "cell_type": "code",
   "execution_count": null,
   "metadata": {
    "collapsed": false
   },
   "outputs": [],
   "source": []
  },
  {
   "cell_type": "code",
   "execution_count": null,
   "metadata": {
    "collapsed": true
   },
   "outputs": [],
   "source": []
  }
 ],
 "metadata": {
  "kernelspec": {
   "display_name": "Python 2",
   "language": "python",
   "name": "python2"
  },
  "language_info": {
   "codemirror_mode": {
    "name": "ipython",
    "version": 2
   },
   "file_extension": ".py",
   "mimetype": "text/x-python",
   "name": "python",
   "nbconvert_exporter": "python",
   "pygments_lexer": "ipython2",
   "version": "2.7.10"
  }
 },
 "nbformat": 4,
 "nbformat_minor": 0
}
