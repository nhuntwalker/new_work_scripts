{
 "cells": [
  {
   "cell_type": "markdown",
   "metadata": {},
   "source": [
    "For taking SIMBAD outputs and converting them to ingestible by MySQL and then by GATOR"
   ]
  },
  {
   "cell_type": "code",
   "execution_count": 55,
   "metadata": {
    "collapsed": false
   },
   "outputs": [],
   "source": [
    "import pandas as pd\n",
    "import os\n",
    "import numpy as np\n",
    "import matplotlib.pyplot as plt\n",
    "%matplotlib inline"
   ]
  },
  {
   "cell_type": "code",
   "execution_count": 355,
   "metadata": {
    "collapsed": false
   },
   "outputs": [],
   "source": [
    "# infile1 = \"../contaminants/planetary_nebulae_simbad.tsv\"\n",
    "infile2 = \"../contaminants/yso1_simbad.tsv\"\n",
    "infile3 = \"../contaminants/yso2_simbad.tsv\"\n"
   ]
  },
  {
   "cell_type": "code",
   "execution_count": 358,
   "metadata": {
    "collapsed": false
   },
   "outputs": [],
   "source": [
    "def read_simbad(infile):\n",
    "    data = open(infile).readlines()[9:-2]\n",
    "    idnum = []\n",
    "    name = []\n",
    "    ra = []\n",
    "    dec = []\n",
    "    \n",
    "    for ii in range(len(data)):        \n",
    "        line = data[ii].split(\"\\t\")\n",
    "        \n",
    "        if line[3].startswith(\"No Coord.\") != True:\n",
    "            idnum.append(line[0])\n",
    "            name.append(line[1])\n",
    "            ra.append(line[3].split()[0])\n",
    "            dec.append(line[3].split()[1])\n",
    "\n",
    "    idnum = np.array(idnum, dtype=\"int\")\n",
    "    ra = np.array(ra, dtype=\"float\")\n",
    "    dec = np.array(dec, dtype=\"float\")\n",
    "    name = np.array(name, dtype=\"S20\")\n",
    "    \n",
    "    return idnum, name, ra, dec"
   ]
  },
  {
   "cell_type": "code",
   "execution_count": 353,
   "metadata": {
    "collapsed": false
   },
   "outputs": [],
   "source": [
    "# def output_for_gator(idnum, ra, dec, name, fname):\n",
    "#     head1 = \"|id     |ra       |dec        |name                    |\\n\"\n",
    "#     head2 = \"|int    |double   |double     |char                    |\\n\"\n",
    "    \n",
    "#     fmt = \" %s\\t %.5f  %.5f\\t%s\\n\"\n",
    "    \n",
    "#     fout = open(fname, 'w')\n",
    "#     fout.write(head1)\n",
    "#     fout.write(head2)\n",
    "#     for ii in range(len(idnum)):\n",
    "#          fout.write(fmt % (idnum[ii], ra[ii], dec[ii], name[ii]))\n",
    "    \n",
    "#     fout.close()\n",
    "    \n",
    "def output_for_gator(idnum, ra, dec, name, fname):\n",
    "\n",
    "    head1 = \"|id   |ra                   |dec                      |name                                       |\\n\"\n",
    "    head2 = \"|int  |double               |double                   |char                                       |\\n\"\n",
    "        \n",
    "#     print head1\n",
    "#     print head2\n",
    "\n",
    "#     print fmt % (idnum[ii], ra[ii], dec[ii], name[ii])\n",
    "\n",
    "    fout = open(fname, 'w')\n",
    "    fout.write(head1)\n",
    "    fout.write(head2)\n",
    "    \n",
    "    for ii in range(len(idnum)):\n",
    "#     for ii in range(200):\n",
    "        #start building the line\n",
    "        fmt1 = \" %i\"\n",
    "        nspaces1 = \" \"*(len(str(max(idnum))) - len(str(idnum[ii])) + 2)\n",
    "        fmt2 = \"%.6f\"\n",
    "        nspaces2 = \" \"*(len(str(max(ra))) - len(str(ra[ii])) + 20)\n",
    "        fmt3 = \"%.6f\"\n",
    "        nspaces3 = \" \"*(len(str(max(dec))) - len(str(dec[ii])) + 20)\n",
    "        fmt4 = \" %s\\n\"\n",
    "        fmt = fmt1+nspaces1+fmt2+nspaces2+fmt3+nspaces3+fmt4\n",
    "\n",
    "        fout.write(fmt % (idnum[ii], ra[ii], dec[ii], name[ii]))\n",
    "    \n",
    "    fout.close()\n",
    "    "
   ]
  },
  {
   "cell_type": "code",
   "execution_count": 360,
   "metadata": {
    "collapsed": false
   },
   "outputs": [],
   "source": [
    "# idnum, name, ra, dec = read_simbad(infile1)\n",
    "idnum1, name1, ra1, dec1 = read_simbad(infile2)\n",
    "idnum2, name2, ra2, dec2 = read_simbad(infile3)\n",
    "\n",
    "idnum = np.concatenate((idnum1, idnum2))\n",
    "name = np.concatenate((name1, name2))\n",
    "ra = np.concatenate((ra1, ra2))\n",
    "dec = np.concatenate((dec1, dec2))\n"
   ]
  },
  {
   "cell_type": "code",
   "execution_count": 361,
   "metadata": {
    "collapsed": false
   },
   "outputs": [],
   "source": [
    "# output_for_gator(idnum, ra, dec, name, \"../contaminants/pne_for_gator.dat\")\n",
    "output_for_gator(idnum, ra, dec, name, \"../contaminants/yso_for_gator.dat\")"
   ]
  },
  {
   "cell_type": "code",
   "execution_count": 361,
   "metadata": {
    "collapsed": false
   },
   "outputs": [],
   "source": []
  },
  {
   "cell_type": "code",
   "execution_count": 361,
   "metadata": {
    "collapsed": false
   },
   "outputs": [],
   "source": []
  },
  {
   "cell_type": "code",
   "execution_count": null,
   "metadata": {
    "collapsed": false
   },
   "outputs": [],
   "source": []
  }
 ],
 "metadata": {
  "kernelspec": {
   "display_name": "Python 2",
   "language": "python",
   "name": "python2"
  },
  "language_info": {
   "codemirror_mode": {
    "name": "ipython",
    "version": 2
   },
   "file_extension": ".py",
   "mimetype": "text/x-python",
   "name": "python",
   "nbconvert_exporter": "python",
   "pygments_lexer": "ipython2",
   "version": "2.7.10"
  }
 },
 "nbformat": 4,
 "nbformat_minor": 0
}
